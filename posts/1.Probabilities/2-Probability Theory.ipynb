{
 "cells": [
  {
   "cell_type": "markdown",
   "id": "1d65cc08",
   "metadata": {},
   "source": [
    "---\n",
    "title: \"1.2-Probability Theory\"\n",
    "author: \"Ahmed Aredah\"\n",
    "date: \"10.25.2023\"\n",
    "output: html_document\n",
    "editor: visual\n",
    "categories:\n",
    "    Basic Probability theories\n",
    "    \n",
    "---"
   ]
  },
  {
   "cell_type": "markdown",
   "id": "c90448bb-8cee-4dbe-9ce7-9a15e6ff70f4",
   "metadata": {
    "tags": []
   },
   "source": [
    "\n",
    "Probability theory and random variables are fundamental concepts in machine learning, providing the mathematical framework for dealing with uncertainty and variability in data. In this blog post, we will explore these concepts and see how they are applied in the field of machine learning.\n",
    "\n",
    "## Probability Theory\n",
    "\n",
    "Probability theory is a branch of mathematics that deals with the likelihood or chance of different outcomes. It is used in machine learning to model and make predictions about uncertain events. Some of the key concepts in probability theory include:\n",
    "\n",
    "-   **Probability Distribution:** A probability distribution describes how the values of a random variable are distributed. It can be discrete or continuous, depending on the type of variable.\n",
    "\n",
    "-   **Expected Value:** The expected value is the mean or average value of a random variable, calculated by taking the weighted average of all possible values.\n",
    "\n",
    "-   **Variance and Standard Deviation:** These measures describe the spread or dispersion of a random variable's values.\n",
    "\n",
    "## Random Variables\n",
    "\n",
    "A random variable is a variable that takes on different values based on the outcome of a random process. In machine learning, random variables are used to represent the features and target variable in a dataset. They can be classified into two types:\n",
    "\n",
    "-   **Discrete Random Variables:** These variables take on a finite number of values. For example, the outcome of a coin toss can be represented as a discrete random variable with two possible values: heads or tails.\n",
    "\n",
    "-   **Continuous Random Variables:** These variables can take on an infinite number of values within a given range. For example, the height of a person can be represented as a continuous random variable.\n",
    "\n",
    "## Application in Machine Learning\n",
    "\n",
    "In machine learning, probability theory and random variables are used to model and understand the uncertainty in data. Here are some ways they are applied:\n",
    "\n",
    "-   **Random Forests:** Random forests are a type of ensemble learning method that uses a collection of decision trees to make predictions. The \"random\" in random forests refers to the random selection of features and data points used to build each tree.\n",
    "\n"
   ]
  },
  {
   "cell_type": "markdown",
   "id": "5f7cef2f-bdfa-427f-8149-0c1718c1d600",
   "metadata": {},
   "source": [
    "## Code Examples\n",
    "\n",
    "In the following Python examples, we will illustrate the key concepts of probability theory and random variables discussed above. Here's what we will be doing:\n",
    "\n",
    "1. **Probability Distribution:** We'll create a normal distribution, which is a type of probability distribution, and visualize it using a graph. This will demonstrate how data can be distributed around a mean value.\n",
    "\n",
    "    - **Expected Value and Variance:** From the normal distribution, we'll calculate the expected value (mean) and variance, which give us a sense of the central tendency and spread of the data.\n",
    "\n",
    "2. **Discrete Random Variable:** We'll simulate a coin toss, which is an example of a discrete random variable, to show how we can represent events with two or more distinct outcomes.\n",
    "\n",
    "3. **Continuous Random Variable:** Finally, we'll simulate the heights of people, which is an example of a continuous random variable, to demonstrate how we can represent events with an infinite range of possible outcomes.\n",
    "\n",
    "Through these examples, we'll gain a practical understanding of these concepts and see how they can be applied to real-world data."
   ]
  },
  {
   "cell_type": "code",
   "execution_count": 6,
   "id": "8ecb870c-96a9-4210-8434-2efc8f44cb61",
   "metadata": {},
   "outputs": [],
   "source": [
    "# Import necessary libraries\n",
    "import numpy as np\n",
    "import matplotlib.pyplot as plt\n",
    "from scipy.stats import norm"
   ]
  },
  {
   "cell_type": "code",
   "execution_count": 7,
   "id": "911c1d0f-e6fc-4045-9996-470a55563ea4",
   "metadata": {},
   "outputs": [],
   "source": [
    "#| echo: false\n",
    "# Set the background color to black and axis label color to white\n",
    "plt.rcParams['figure.facecolor'] = 'black'\n",
    "plt.rcParams['axes.facecolor'] = 'black'\n",
    "plt.rcParams['axes.edgecolor'] = 'white'\n",
    "plt.rcParams['axes.labelcolor'] = 'white'\n",
    "plt.rcParams['xtick.color'] = 'white'\n",
    "plt.rcParams['ytick.color'] = 'white'"
   ]
  },
  {
   "cell_type": "code",
   "execution_count": 8,
   "id": "5e57a4b4-a90d-47db-a188-fc099eda4cca",
   "metadata": {},
   "outputs": [
    {
     "data": {
      "image/png": "[encoded data removed]",
      "text/plain": [
       "<Figure size 432x288 with 1 Axes>"
      ]
     },
     "metadata": {},
     "output_type": "display_data"
    },
    {
     "name": "stdout",
     "output_type": "stream",
     "text": [
      "Expected Value: -0.0011666313731559523\n",
      "Variance: 0.009747766798048644\n"
     ]
    }
   ],
   "source": [
    "# Probability Distribution: Example with a Normal Distribution\n",
    "mu, sigma = 0, 0.1  # mean and standard deviation\n",
    "s = np.random.normal(mu, sigma, 1000)\n",
    "\n",
    "# Plot the histogram of the sample\n",
    "count, bins, ignored = plt.hist(s, 30, density=True)\n",
    "plt.plot(bins, 1 / (sigma * np.sqrt(2 * np.pi)) *\n",
    "         np.exp(-(bins - mu) ** 2 / (2 * sigma ** 2)),\n",
    "         linewidth=2, color='r')\n",
    "plt.title('Probability Distribution: Normal Distribution')\n",
    "plt.show()\n",
    "\n",
    "# Expected Value and Variance\n",
    "expected_value = np.mean(s)\n",
    "variance = np.var(s)\n",
    "print(f'Expected Value: {expected_value}')\n",
    "print(f'Variance: {variance}')"
   ]
  },
  {
   "cell_type": "markdown",
   "id": "bc3b14c8-4e4d-4237-b54a-9d4931de3a17",
   "metadata": {},
   "source": [
    "In this Python code, we generated random numbers to demonstrate what we learned earlier. First, we showed what a normal distribution looks like by drawing a bell-shaped curve, and then we calculated the average (mean) and spread (variance) of the numbers."
   ]
  },
  {
   "cell_type": "code",
   "execution_count": 2,
   "id": "fee830d1-c494-42ce-aa30-c6a172263a68",
   "metadata": {},
   "outputs": [
    {
     "name": "stdout",
     "output_type": "stream",
     "text": [
      "Coin Toss Probabilities: {'Heads': 0.479, 'Tails': 0.521}\n"
     ]
    }
   ],
   "source": [
    "# Discrete Random Variable: Example with a Coin Toss\n",
    "coin_toss = np.random.choice(['Heads', 'Tails'], 1000)\n",
    "unique, counts = np.unique(coin_toss, return_counts=True)\n",
    "coin_toss_prob = dict(zip(unique, counts / len(coin_toss)))\n",
    "print(f'Coin Toss Probabilities: {coin_toss_prob}')"
   ]
  },
  {
   "cell_type": "markdown",
   "id": "8d7409fd-3af6-4acd-9fff-bf480a22d870",
   "metadata": {},
   "source": [
    "Here, we simulated flipping a coin a thousand times and showed the likelihood of getting heads or tails. Which turns out to be ~0.5 for both cases. "
   ]
  },
  {
   "cell_type": "code",
   "execution_count": 3,
   "id": "f0b6df3c-4f5e-418a-8cc9-d3eaaa45b652",
   "metadata": {},
   "outputs": [
    {
     "name": "stdout",
     "output_type": "stream",
     "text": [
      "Mean Height: 169.9326452743008 cm\n",
      "Variance of Heights: 104.72824250963349 cm^2\n"
     ]
    }
   ],
   "source": [
    "# Continuous Random Variable: Example with Heights of People\n",
    "heights = np.random.normal(170, 10, 1000)  # mean height = 170 cm, std deviation = 10 cm\n",
    "mean_height = np.mean(heights)\n",
    "var_height = np.var(heights)\n",
    "print(f'Mean Height: {mean_height} cm')\n",
    "print(f'Variance of Heights: {var_height} cm^2')"
   ]
  },
  {
   "cell_type": "markdown",
   "id": "fc0da3c3-36a7-41d5-8f6e-18510ea7ece7",
   "metadata": {},
   "source": [
    "Here, we simulated the heights of a thousand people, calculated the average height, and how much the heights vary from each other. This is just like how we use these concepts in machine learning to understand and predict different events or outcomes based on data."
   ]
  },
  {
   "cell_type": "markdown",
   "id": "749ad981-5b58-43f3-9dad-7f4f62e92d71",
   "metadata": {},
   "source": [
    "In conclusion, machine learning is like teaching a computer to make educated guesses. It looks at patterns and learns how likely different outcomes are, much like how we use probability theory to predict future events. By using random variables, which are values that can change randomly, machine learning models can consider a range of possibilities and make predictions that can be generalized to new, unseen data. This combination of probability theory and random variables is what allows machine learning models to effectively learn from data and make accurate predictions."
   ]
  }
 ],
 "metadata": {
  "kernelspec": {
   "display_name": "Python 3 (ipykernel)",
   "language": "python",
   "name": "python3"
  },
  "language_info": {
   "codemirror_mode": {
    "name": "ipython",
    "version": 3
   },
   "file_extension": ".py",
   "mimetype": "text/x-python",
   "name": "python",
   "nbconvert_exporter": "python",
   "pygments_lexer": "ipython3",
   "version": "3.9.7"
  }
 },
 "nbformat": 4,
 "nbformat_minor": 5
}
