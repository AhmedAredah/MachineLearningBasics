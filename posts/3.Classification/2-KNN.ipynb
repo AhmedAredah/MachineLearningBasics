{
 "cells": [
  {
   "cell_type": "markdown",
   "id": "1bc0758e-2bae-4621-8b36-b740afa4bfe3",
   "metadata": {},
   "source": [
    "---\n",
    "title: \"3.2-k-Nearest Neighbour (k-NN)\"\n",
    "author: \"Ahmed Aredah\"\n",
    "date: \"10.25.2023\"\n",
    "output: html_document\n",
    "editor: visual\n",
    "categories:\n",
    "    Classification\n",
    "    \n",
    "---"
   ]
  },
  {
   "cell_type": "markdown",
   "id": "20087598-da9e-4388-9513-4e9566933806",
   "metadata": {
    "tags": []
   },
   "source": [
    "## Overview\n",
    "\n",
    "The k-Nearest Neighbour (k-NN) algorithm is a simple, intuitive method used for classification and regression tasks. Unlike model-based algorithms, it doesn't explicitly learn a model. Instead, it memorizes the training dataset and makes predictions by finding the 'k' training examples closest to a given input.\n",
    "\n",
    "## Mathematical Description\n",
    "\n",
    "Given a new observation $\\mathbf{x}_0$, the k-NN algorithm identifies 'k' points from the training dataset that are closest to $\\mathbf{x}_0$. For classification, the mode (most frequent class) among these k points is taken as the predicted class for $\\mathbf{x}_0$. For regression, the average (or median) output value of these k points is used as the prediction.\n",
    "\n",
    "The distance between two points can be computed using various metrics, with the Euclidean distance being the most common:\n",
    "\n",
    "\\begin{equation}\n",
    "d(\\mathbf{x}_i, \\mathbf{x}_j) = \\sqrt{\\sum_{l=1}^{n} (x_{il} - x_{jl})^2}\n",
    "\\end{equation}\n",
    "\n",
    "where:\n",
    "\n",
    "-   $\\mathbf{x}_i$ and $\\mathbf{x}_j$ are two points in n-dimensional space.\n",
    "-   $d(\\mathbf{x}_i, $\\mathbf{x}_j$)$ is the Euclidean distance between $\\mathbf{x}_i$ and $\\mathbf{x}_j$.\n",
    "\n",
    "### Weighted k-NN\n",
    "\n",
    "A variation of k-NN is the weighted k-NN, where weights are assigned to the k neighbours based on their distance to the query point. Closer neighbors will have a larger influence on the prediction than farther ones. The weights are typically computed using the inverse of the distance:\n",
    "\n",
    "\\begin{equation}\n",
    "w_i = \\frac{1}{d(\\mathbf{x}_0, \\mathbf{x}_i)^2}\n",
    "\\end{equation}\n",
    "\n",
    "\n",
    "## Application on the Breast Cancer Wisconsin Dataset\n",
    "We will be using the same dataset we used before in the LogisticRegression. By comparing the results from both logistic regression and k-NN, we can evaluate the strengths and weaknesses of each approach and determine which is more suitable for this particular dataset. "
   ]
  },
  {
   "cell_type": "code",
   "execution_count": 1,
   "id": "ef4caa44-74fd-4e92-9b7f-1b2e226399ea",
   "metadata": {},
   "outputs": [
    {
     "name": "stdout",
     "output_type": "stream",
     "text": [
      "required libraries loaded successfully!\n"
     ]
    }
   ],
   "source": [
    "#import required libraries\n",
    "import pandas as pd\n",
    "import os\n",
    "import numpy as np\n",
    "import warnings\n",
    "import matplotlib.pyplot as plt\n",
    "import seaborn as sns\n",
    "from sklearn.datasets import load_breast_cancer\n",
    "from sklearn.neighbors import KNeighborsClassifier\n",
    "from sklearn.model_selection import train_test_split, cross_val_score\n",
    "from sklearn.metrics import accuracy_score, confusion_matrix\n",
    "from sklearn.decomposition import PCA\n",
    "\n",
    "\n",
    "#inline plots\n",
    "%matplotlib inline\n",
    "\n",
    "# Set Seaborn style to \"whitegrid\" for a white background with grid lines\n",
    "sns.set_style(\"whitegrid\")\n",
    "\n",
    "#supress warnings!\n",
    "warnings.simplefilter(action='ignore', category=Warning)\n",
    "# Set the display option to show all columns\n",
    "pd.set_option('display.max_columns', None)\n",
    "\n",
    "print(\"required libraries loaded successfully!\")"
   ]
  },
  {
   "cell_type": "code",
   "execution_count": 2,
   "id": "cd9cf2b6-83e2-46a7-a61d-4271c4c0cc75",
   "metadata": {},
   "outputs": [],
   "source": [
    "#| echo: false\n",
    "# Set the background color to black and axis label color to white\n",
    "plt.rcParams['figure.facecolor'] = 'black'\n",
    "plt.rcParams['axes.facecolor'] = 'black'\n",
    "plt.rcParams['axes.edgecolor'] = 'white'\n",
    "plt.rcParams['axes.labelcolor'] = 'white'\n",
    "plt.rcParams['xtick.color'] = 'white'\n",
    "plt.rcParams['ytick.color'] = 'white'\n",
    "plt.rcParams['legend.facecolor'] = 'white'\n",
    "plt.rcParams['legend.edgecolor'] = 'white'"
   ]
  },
  {
   "cell_type": "code",
   "execution_count": 3,
   "id": "f3dde38d-c624-478f-9ef4-b83759e1a283",
   "metadata": {},
   "outputs": [],
   "source": [
    "# Load the dataset\n",
    "data = load_breast_cancer()\n",
    "X = data.data\n",
    "y = data.target\n",
    "feature_names = data.feature_names\n",
    "\n",
    "# Convert the data to a pandas DataFrame\n",
    "df = pd.DataFrame(X, columns=feature_names)\n",
    "df['target'] = y"
   ]
  },
  {
   "cell_type": "code",
   "execution_count": 4,
   "id": "21258b2a-6aab-4ec8-b0d8-3065339dd7ab",
   "metadata": {},
   "outputs": [
    {
     "name": "stdout",
     "output_type": "stream",
     "text": [
      "Cross-validation scores: [0.93406593 0.9010989  0.95604396 0.9010989  0.92307692]\n",
      "Average cross-validation score: 0.9230769230769231\n",
      "Accuracy: 0.956140350877193\n"
     ]
    }
   ],
   "source": [
    "# Split the dataset into training and testing sets\n",
    "X_train, X_test, y_train, y_test = train_test_split(X, y, test_size=0.2, random_state=42)\n",
    "\n",
    "# Initialize the classifier\n",
    "clf = KNeighborsClassifier(n_neighbors=5)\n",
    "\n",
    "# Perform 5-fold cross-validation\n",
    "cv_scores = cross_val_score(clf, X_train, y_train, cv=5)\n",
    "\n",
    "# Print the cross-validation scores\n",
    "print(\"Cross-validation scores:\", cv_scores)\n",
    "\n",
    "# Print the average cross-validation score\n",
    "print(\"Average cross-validation score:\", cv_scores.mean())\n",
    "\n",
    "# Train the classifier on the training data\n",
    "clf.fit(X_train, y_train)\n",
    "\n",
    "# Make predictions on the test data\n",
    "y_pred = clf.predict(X_test)\n",
    "\n",
    "# Evaluate the classifier\n",
    "accuracy = accuracy_score(y_test, y_pred)\n",
    "print(\"Accuracy:\", accuracy)"
   ]
  },
  {
   "cell_type": "code",
   "execution_count": 5,
   "id": "c2e5c9a9-dcfe-4e41-a20f-99ab57ac959d",
   "metadata": {},
   "outputs": [
    {
     "data": {
      "image/png": "[encoded data removed]",
      "text/plain": [
       "<Figure size 432x288 with 2 Axes>"
      ]
     },
     "metadata": {},
     "output_type": "display_data"
    }
   ],
   "source": [
    "# Plot the confusion matrix\n",
    "cm = confusion_matrix(y_test, y_pred)\n",
    "sns.heatmap(cm, annot=True, fmt='g', cmap='Blues')\n",
    "plt.xlabel('Predicted')\n",
    "plt.ylabel('True')\n",
    "plt.title('Confusion Matrix')\n",
    "plt.show()"
   ]
  },
  {
   "cell_type": "code",
   "execution_count": 6,
   "id": "b25b4583-f0c1-43d0-8db1-66448ccbb17e",
   "metadata": {},
   "outputs": [
    {
     "data": {
      "image/png": "[encoded data removed]",
      "text/plain": [
       "<Figure size 432x288 with 1 Axes>"
      ]
     },
     "metadata": {},
     "output_type": "display_data"
    }
   ],
   "source": [
    "# Reduce the dimensionality of the dataset to 2 dimensions using PCA so we can visualize it\n",
    "pca = PCA(n_components=2)\n",
    "X_pca = pca.fit_transform(X)\n",
    "\n",
    "# Split the dataset into training and testing sets\n",
    "X_train, X_test, y_train, y_test = train_test_split(X_pca, y, test_size=0.2, random_state=42)\n",
    "\n",
    "# Initialize the classifier\n",
    "clf = KNeighborsClassifier(n_neighbors=5)\n",
    "\n",
    "# Train the classifier on the training data\n",
    "clf.fit(X_train, y_train)\n",
    "\n",
    "# Create a meshgrid for the plot\n",
    "x_min, x_max = X_pca[:, 0].min() - 1, X_pca[:, 0].max() + 1\n",
    "y_min, y_max = X_pca[:, 1].min() - 1, X_pca[:, 1].max() + 1\n",
    "xx, yy = np.meshgrid(np.arange(x_min, x_max, 1),\n",
    "                     np.arange(y_min, y_max, 1))\n",
    "\n",
    "# Get the predictions for each point in the meshgrid\n",
    "Z = clf.predict(np.c_[xx.ravel(), yy.ravel()])\n",
    "Z = Z.reshape(xx.shape)\n",
    "\n",
    "# Plot the prediction region\n",
    "plt.contourf(xx, yy, Z, alpha=0.3, cmap='viridis')\n",
    "\n",
    "# Plot the data points\n",
    "scatter = plt.scatter(X_pca[:, 0], X_pca[:, 1], c=y+6, cmap='viridis')\n",
    "\n",
    "# Add a legend\n",
    "legend = plt.legend(*scatter.legend_elements(), title='Classes')\n",
    "plt.gca().add_artist(legend)\n",
    "\n",
    "# Show the plot\n",
    "plt.xlabel('Principal Component 1')\n",
    "plt.ylabel('Principal Component 2')\n",
    "plt.title('Prediction Region for Breast Cancer Dataset')\n",
    "plt.show()"
   ]
  }
 ],
 "metadata": {
  "kernelspec": {
   "display_name": "Python 3 (ipykernel)",
   "language": "python",
   "name": "python3"
  },
  "language_info": {
   "codemirror_mode": {
    "name": "ipython",
    "version": 3
   },
   "file_extension": ".py",
   "mimetype": "text/x-python",
   "name": "python",
   "nbconvert_exporter": "python",
   "pygments_lexer": "ipython3",
   "version": "3.9.7"
  }
 },
 "nbformat": 4,
 "nbformat_minor": 5
}
